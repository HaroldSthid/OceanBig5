{
  "nbformat": 4,
  "nbformat_minor": 0,
  "metadata": {
    "colab": {
      "provenance": [],
      "authorship_tag": "ABX9TyMuZOR+SMrgbiUUd+Gvkv/H",
      "include_colab_link": true
    },
    "kernelspec": {
      "name": "python3",
      "display_name": "Python 3"
    },
    "language_info": {
      "name": "python"
    }
  },
  "cells": [
    {
      "cell_type": "markdown",
      "metadata": {
        "id": "view-in-github",
        "colab_type": "text"
      },
      "source": [
        "<a href=\"https://colab.research.google.com/github/HaroldSthid/OceanBig5/blob/main/HarPir_Tlv1.ipynb\" target=\"_parent\"><img src=\"https://colab.research.google.com/assets/colab-badge.svg\" alt=\"Open In Colab\"/></a>"
      ]
    },
    {
      "cell_type": "code",
      "execution_count": 1,
      "metadata": {
        "id": "Ul36iBNj_HZV"
      },
      "outputs": [],
      "source": [
        "from PIL import Image\n",
        "import numpy as np"
      ]
    },
    {
      "cell_type": "code",
      "source": [
        "from google.colab import drive\n",
        "drive.mount('/content/drive')"
      ],
      "metadata": {
        "colab": {
          "base_uri": "https://localhost:8080/"
        },
        "id": "lm--SE4EBoFN",
        "outputId": "9adab74b-92d1-4946-b219-0597d7847dd5"
      },
      "execution_count": 2,
      "outputs": [
        {
          "output_type": "stream",
          "name": "stdout",
          "text": [
            "Mounted at /content/drive\n"
          ]
        }
      ]
    },
    {
      "cell_type": "code",
      "source": [
        "# Ruta de la imagen y tamaño máximo\n",
        "ruta_imagen = \"/content/drive/My Drive/UniversidaddelaSabana/Coding_Lab/Image_v1.jpg\"\n",
        "tamano_maximo = (50, 50)"
      ],
      "metadata": {
        "id": "IbdDxbzDDbOO"
      },
      "execution_count": 3,
      "outputs": []
    },
    {
      "cell_type": "code",
      "source": [
        "# Cargar la imagen y convertirla a escala de grises\n",
        "image = Image.open(ruta_imagen).convert('L')\n",
        "image = image.resize(tamano_maximo)  # Redimensionar para simplificar\n",
        "\n",
        "# Convertir la imagen a un array de numpy\n",
        "image_array = np.array(image)\n",
        "\n",
        "# Definir los caracteres ASCII\n",
        "ascii_chars = \"@%#*+=-:. \"\n",
        "\n",
        "# Mapear los valores de píxeles a caracteres ASCII\n",
        "ascii_image = []\n",
        "for row in image_array:\n",
        "    ascii_row = [ascii_chars[pixel // 32] for pixel in row]\n",
        "    ascii_image.append(\"\".join(ascii_row))\n"
      ],
      "metadata": {
        "id": "YERX0YbeHzzh"
      },
      "execution_count": 4,
      "outputs": []
    },
    {
      "cell_type": "code",
      "source": [
        "import pandas as pd\n",
        "\n",
        "# Convertir la imagen ASCII a un DataFrame de pandas\n",
        "df = pd.DataFrame([list(row) for row in ascii_image])\n",
        "\n",
        "# Exportar el DataFrame a un archivo Excel\n",
        "df.to_excel('/content/drive/My Drive/UniversidaddelaSabana/Coding_Lab/imagen_ascii_2.xlsx', header=False, index=False)"
      ],
      "metadata": {
        "id": "F8UuLnU_ItfM"
      },
      "execution_count": 5,
      "outputs": []
    }
  ]
}